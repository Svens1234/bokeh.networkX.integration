{
 "cells": [
  {
   "cell_type": "code",
   "execution_count": 1,
   "id": "da4f7a1a",
   "metadata": {},
   "outputs": [],
   "source": [
    "import networkx as nx\n",
    "from bokeh.io import output_file, show\n",
    "from bokeh.plotting import figure, from_networkx"
   ]
  },
  {
   "cell_type": "code",
   "execution_count": 2,
   "id": "6f864582",
   "metadata": {},
   "outputs": [],
   "source": [
    "G = nx.karate_club_graph()"
   ]
  },
  {
   "cell_type": "code",
   "execution_count": 3,
   "id": "cf493b9d",
   "metadata": {},
   "outputs": [],
   "source": [
    "plot = figure(title=\"Networkx Integration Demonstration\", x_range=(-1.1,1.1), y_range=(-1.1,1.1),\n",
    "              tools=\"\", toolbar_location=None)"
   ]
  },
  {
   "cell_type": "code",
   "execution_count": 10,
   "id": "477f1948",
   "metadata": {},
   "outputs": [],
   "source": [
    "graph = from_networkx(G, nx.spring_layout, scale=9, center=(0,0))\n",
    "plot.renderers.append(graph)"
   ]
  },
  {
   "cell_type": "code",
   "execution_count": 12,
   "id": "92451fb4",
   "metadata": {},
   "outputs": [],
   "source": [
    "output_file(\"networkx_graph.html\")\n",
    "show(plot)"
   ]
  },
  {
   "cell_type": "code",
   "execution_count": null,
   "id": "6d0b2407",
   "metadata": {},
   "outputs": [],
   "source": []
  }
 ],
 "metadata": {
  "kernelspec": {
   "display_name": "Python 3 (ipykernel)",
   "language": "python",
   "name": "python3"
  },
  "language_info": {
   "codemirror_mode": {
    "name": "ipython",
    "version": 3
   },
   "file_extension": ".py",
   "mimetype": "text/x-python",
   "name": "python",
   "nbconvert_exporter": "python",
   "pygments_lexer": "ipython3",
   "version": "3.8.7"
  }
 },
 "nbformat": 4,
 "nbformat_minor": 5
}
